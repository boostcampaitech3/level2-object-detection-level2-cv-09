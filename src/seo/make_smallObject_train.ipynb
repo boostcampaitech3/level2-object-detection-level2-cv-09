{
 "cells": [
  {
   "cell_type": "code",
   "execution_count": 1,
   "metadata": {},
   "outputs": [],
   "source": [
    "import os\n",
    "import re\n",
    "import sys\n",
    "import json\n",
    "import argparse\n",
    "import collections\n",
    "from typing_extensions import final\n",
    "\n",
    "import numpy as np\n",
    "import pandas as pd\n",
    "import PIL.Image as Image\n",
    "import albumentations as A\n",
    "\n",
    "from tqdm import tqdm"
   ]
  },
  {
   "cell_type": "code",
   "execution_count": 31,
   "metadata": {},
   "outputs": [],
   "source": [
    "train_json_path = \"/opt/ml/detection/dataset/train.json\"\n",
    "smallObject_json_path = '/opt/ml/detection/dataset/so_train.json'\n",
    "\n",
    "with open(train_json_path, \"r\") as train_json:\n",
    "    train_dict = json.load(train_json)\n",
    "\n",
    "so_dict = {}\n",
    "so_dict[\"info\"] = train_dict[\"info\"]\n",
    "so_dict[\"licenses\"] = train_dict[\"licenses\"]\n",
    "so_dict[\"images\"] = []\n",
    "so_dict[\"categories\"] = train_dict[\"categories\"]\n",
    "so_dict[\"annotations\"] = []\n",
    "\n",
    "push_flag = [False for i in range(5000)]\n",
    "#print(type(so_dict))"
   ]
  },
  {
   "cell_type": "code",
   "execution_count": 32,
   "metadata": {},
   "outputs": [
    {
     "name": "stderr",
     "output_type": "stream",
     "text": [
      "100%|██████████| 23144/23144 [00:00<00:00, 321703.19it/s]\n"
     ]
    }
   ],
   "source": [
    "images = train_dict[\"images\"]\n",
    "\n",
    "so_cnt=0\n",
    "anno = train_dict[\"annotations\"]\n",
    "set_images = {}\n",
    "for an in tqdm(anno):\n",
    "    if an['area'] < 5000:\n",
    "        if push_flag[an[\"image_id\"]] == False:\n",
    "            so_cnt+=1\n",
    "            so_dict[\"images\"].append(images[an[\"image_id\"]])\n",
    "            so_dict[\"annotations\"].append(an)\n",
    "            push_flag[an[\"image_id\"]] = True\n",
    "#print(so_dict)\n",
    "\n",
    "with open(smallObject_json_path, 'w') as f:\n",
    "    json.dump(so_dict, f)\n",
    "\n",
    "#print(so_cnt)"
   ]
  }
 ],
 "metadata": {
  "interpreter": {
   "hash": "b94c6de4bce9a87a354a5fa9998691adc0532adddb9d4140f5ba941d00b01fae"
  },
  "kernelspec": {
   "display_name": "Python 3.7.11 ('detection')",
   "language": "python",
   "name": "python3"
  },
  "language_info": {
   "codemirror_mode": {
    "name": "ipython",
    "version": 3
   },
   "file_extension": ".py",
   "mimetype": "text/x-python",
   "name": "python",
   "nbconvert_exporter": "python",
   "pygments_lexer": "ipython3",
   "version": "3.7.11"
  },
  "orig_nbformat": 4
 },
 "nbformat": 4,
 "nbformat_minor": 2
}
