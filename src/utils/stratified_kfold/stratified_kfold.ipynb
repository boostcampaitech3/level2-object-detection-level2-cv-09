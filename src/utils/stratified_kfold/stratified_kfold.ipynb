{
 "cells": [
  {
   "cell_type": "code",
   "execution_count": 1,
   "metadata": {},
   "outputs": [],
   "source": [
    "#!pip install scipy\n",
    "#!pip3 uninstall scikit-learn --yes\n",
    "#!pip3 install scikit-learn==0.22\n",
    "#!pip install iterative-stratification\n",
    "\n",
    "from iterstrat.ml_stratifiers import MultilabelStratifiedKFold\n",
    "from operator import add\n",
    "import numpy as np\n",
    "import json\n",
    "import os\n",
    "\n",
    "\n",
    "annos_path = '/opt/ml/detection/dataset/train.json'\n",
    "with open(annos_path, 'rt', encoding='UTF-8') as annotations:\n",
    "        coco = json.load(annotations)\n",
    "        info = coco['info']\n",
    "        licenses = coco['licenses']\n",
    "        images = coco['images']\n",
    "        annotations = coco['annotations']\n",
    "        categories = coco['categories']\n",
    "\n",
    "X = coco['images']\n",
    "Y = [ [0]*len(categories) for _ in range(len(images))]\n",
    "\n",
    "for anno in annotations:\n",
    "    image_id = anno['image_id']\n",
    "    Y[image_id][anno['category_id']]+=1\n",
    "\n",
    "mskf = MultilabelStratifiedKFold(n_splits=5, shuffle=True, random_state=1010)\n",
    "\n",
    "\n",
    "imgid2annos = [[] for _ in range(len(coco['images']))]\n",
    "for anno in annotations:\n",
    "    imgid = anno['image_id']\n",
    "    imgid2annos[imgid].append(anno)\n",
    "\n",
    "\n",
    "root = '.'"
   ]
  },
  {
   "cell_type": "markdown",
   "metadata": {},
   "source": [
    "배터리 오버샘플링을 위한 테스트"
   ]
  },
  {
   "cell_type": "code",
   "execution_count": 21,
   "metadata": {},
   "outputs": [
    {
     "name": "stdout",
     "output_type": "stream",
     "text": [
      "122\n",
      "137\n",
      "129\n",
      "131\n",
      "117\n"
     ]
    }
   ],
   "source": [
    "for idx,(train_index, val_index) in enumerate(mskf.split(X, Y)):\n",
    "    count = 0\n",
    "    for t_index in train_index:\n",
    "        for anno in imgid2annos[X[t_index]['id']]:            \n",
    "            if anno['category_id'] == 8:\n",
    "                # print(anno)\n",
    "                count += 1\n",
    "    print(count)"
   ]
  },
  {
   "cell_type": "markdown",
   "metadata": {},
   "source": [
    "배터리 오버샘플링 적용(수정 필요)"
   ]
  },
  {
   "cell_type": "code",
   "execution_count": 2,
   "metadata": {},
   "outputs": [
    {
     "name": "stdout",
     "output_type": "stream",
     "text": [
      "train data save!\n",
      "val data save!\n",
      "train data save!\n",
      "val data save!\n",
      "train data save!\n",
      "val data save!\n",
      "train data save!\n",
      "val data save!\n",
      "train data save!\n",
      "val data save!\n"
     ]
    }
   ],
   "source": [
    "for idx,(train_index, val_index) in enumerate(mskf.split(X, Y)):\n",
    "    cv_train_path = os.path.join(root,f'cv_train_over{idx+1}.json')\n",
    "    cv_val_path = os.path.join(root,f'cv_val_over{idx+1}.json')\n",
    "    cv_train = dict()\n",
    "    cv_val = dict()\n",
    "\n",
    "    # train\n",
    "    cv_train['info'] = coco['info']\n",
    "    cv_train['licenses'] = coco['licenses']\n",
    "    cv_train['categories'] = coco['categories']\n",
    "    \n",
    "    train_images=[]\n",
    "    train_annos=[]\n",
    "    for t_index in train_index:\n",
    "        train_images.append(X[t_index])\n",
    "        image_id = X[t_index]['id']\n",
    "        train_annos +=imgid2annos[image_id]\n",
    "        for anno in imgid2annos[X[t_index]['id']]:            \n",
    "            if anno['category_id'] == 8:\n",
    "                train_images.append(X[t_index])\n",
    "                image_id = X[t_index]['id']\n",
    "                train_annos +=imgid2annos[image_id]\n",
    "    \n",
    "    cv_train['images'] = train_images\n",
    "    cv_train['annotations'] = train_annos\n",
    "    \n",
    "    with open(cv_train_path,'w') as f:\n",
    "        json.dump(cv_train,f)\n",
    "    print('train data save!') \n",
    "    \n",
    "    # validation\n",
    "    cv_val['info'] = coco['info']\n",
    "    cv_val['licenses'] = coco['licenses']\n",
    "    cv_val['categories'] = coco['categories']\n",
    "    \n",
    "    val_images=[]\n",
    "    val_annos=[]\n",
    "    for v_index in val_index:\n",
    "        val_images.append(X[v_index])\n",
    "        image_id = X[v_index]['id']\n",
    "        val_annos +=imgid2annos[image_id]\n",
    "    \n",
    "    cv_val['images'] = val_images\n",
    "    cv_val['annotations'] = val_annos\n",
    "    \n",
    "    with open(cv_val_path,'w') as f:\n",
    "        json.dump(cv_val,f)\n",
    "    print('val data save!') "
   ]
  },
  {
   "cell_type": "code",
   "execution_count": null,
   "metadata": {},
   "outputs": [],
   "source": []
  }
 ],
 "metadata": {
  "interpreter": {
   "hash": "b94c6de4bce9a87a354a5fa9998691adc0532adddb9d4140f5ba941d00b01fae"
  },
  "kernelspec": {
   "display_name": "detection",
   "language": "python",
   "name": "detection"
  },
  "language_info": {
   "codemirror_mode": {
    "name": "ipython",
    "version": 3
   },
   "file_extension": ".py",
   "mimetype": "text/x-python",
   "name": "python",
   "nbconvert_exporter": "python",
   "pygments_lexer": "ipython3",
   "version": "3.7.11"
  },
  "orig_nbformat": 4
 },
 "nbformat": 4,
 "nbformat_minor": 2
}
