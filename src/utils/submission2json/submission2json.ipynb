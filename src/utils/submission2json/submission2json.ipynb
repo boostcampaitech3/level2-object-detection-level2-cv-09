{
 "cells": [
  {
   "cell_type": "code",
   "execution_count": 25,
   "id": "b64e3bb0",
   "metadata": {
    "id": "b64e3bb0"
   },
   "outputs": [],
   "source": [
    "import pandas as pd\n",
    "import numpy as np\n",
    "import json"
   ]
  },
  {
   "cell_type": "code",
   "execution_count": 26,
   "id": "5cdbca39",
   "metadata": {},
   "outputs": [],
   "source": [
    "\n",
    "LABEL_NAME = [\"General trash\", \"Paper\", \"Paper pack\", \"Metal\", \n",
    "              \"Glass\", \"Plastic\", \"Styrofoam\", \"Plastic bag\", \"Battery\", \"Clothing\"]\n",
    "\n",
    "# json으로 변환할 csv 파일 경로 및 저장 위치 설정              \n",
    "SUBMISSION_CSV = './submission.csv'\n",
    "CONVERTED_JSON = './submission_coco.json'\n",
    "\n",
    "submission_df = pd.read_csv(SUBMISSION_CSV)"
   ]
  },
  {
   "cell_type": "code",
   "execution_count": 29,
   "id": "5aa99aaf",
   "metadata": {},
   "outputs": [],
   "source": [
    "global annid\n",
    "annid = 0\n",
    "images = []\n",
    "categories = []\n",
    "annotations = []\n",
    "\n",
    "submission_df['fileid'] = submission_df['image_id'].astype('category').cat.codes\n",
    "\n",
    "def image(row):\n",
    "    image = {}\n",
    "    image[\"width\"] = 1024\n",
    "    image[\"height\"] = 1024\n",
    "    image[\"file_name\"] = row.image_id\n",
    "    image[\"id\"] = row.fileid\n",
    "    return image\n",
    "\n",
    "def category(i, label_name):\n",
    "    category = {}\n",
    "    category[\"id\"] = i\n",
    "    category[\"name\"] = label_name\n",
    "    category[\"supercategory\"] = label_name\n",
    "    return category\n",
    "\n",
    "# boxes == [xmin, ymin, xmax, ymax]\n",
    "def annotation(row):\n",
    "    global annid\n",
    "    annotations = []\n",
    "\n",
    "    boxes = np.array(row.PredictionString.split(' '))\n",
    "    if len(boxes) % 6 == 1:\n",
    "        boxes = boxes[:-1].reshape(-1, 6)\n",
    "    elif len(boxes) % 6 == 0:\n",
    "        boxes = boxes.reshape(-1, 6)\n",
    "    else:\n",
    "        raise Exception('error', 'invalid box count')\n",
    "    for box in boxes:\n",
    "        xmin, xmax = float(box[2]), float(box[4])\n",
    "        ymin, ymax = float(box[3]), float(box[5])\n",
    "    \n",
    "        annotation = {}\n",
    "        area = (xmax - xmin)*(ymax - ymin)\n",
    "        annotation[\"image_id\"] = row.fileid\n",
    "        annotation[\"category_id\"] = int(box[0])\n",
    "        annotation[\"score\"] = float(box[1])\n",
    "        annotation[\"area\"] = area\n",
    "        annotation[\"bbox\"] = [xmin, ymin, xmax-xmin, ymax-ymin]\n",
    "        annotation[\"iscrowd\"] = 0\n",
    "        annotation[\"id\"] = annid\n",
    "        annotations.append(annotation)\n",
    "        annid += 1\n",
    "    return annotations\n",
    "\n",
    "for row in submission_df.itertuples():\n",
    "    annotations.extend(annotation(row))\n",
    "\n",
    "for row in submission_df.itertuples():\n",
    "    images.append(image(row))\n",
    "\n",
    "for i, label_name in enumerate(LABEL_NAME):\n",
    "    categories.append(category(i, label_name))\n",
    "\n",
    "data_coco = {}\n",
    "data_coco[\"images\"] = images\n",
    "data_coco[\"categories\"] = categories\n",
    "data_coco[\"annotations\"] = annotations\n",
    "json.dump(data_coco, open(CONVERTED_JSON, \"w\"), indent=4)"
   ]
  }
 ],
 "metadata": {
  "colab": {
   "collapsed_sections": [],
   "name": "metric.ipynb",
   "provenance": []
  },
  "kernelspec": {
   "display_name": "Python 3 (ipykernel)",
   "language": "python",
   "name": "python3"
  },
  "language_info": {
   "codemirror_mode": {
    "name": "ipython",
    "version": 3
   },
   "file_extension": ".py",
   "mimetype": "text/x-python",
   "name": "python",
   "nbconvert_exporter": "python",
   "pygments_lexer": "ipython3",
   "version": "3.8.5"
  }
 },
 "nbformat": 4,
 "nbformat_minor": 5
}
