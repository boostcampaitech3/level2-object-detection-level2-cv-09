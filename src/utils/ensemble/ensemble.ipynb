{
  "cells": [
    {
      "cell_type": "code",
      "execution_count": null,
      "metadata": {
        "id": "a4LZasQd0SC0"
      },
      "outputs": [],
      "source": [
        "# numpy downgrade가 필요할 수 있음\n",
        "# !python3 -m pip install numpy==1.20.0"
      ]
    },
    {
      "cell_type": "code",
      "execution_count": 1,
      "metadata": {
        "id": "EhOlSQLB0SC2",
        "outputId": "76b4f253-6b31-4a3d-985a-3e6d89ceed5c"
      },
      "outputs": [
        {
          "name": "stdout",
          "output_type": "stream",
          "text": [
            "Collecting ensemble_boxes\n",
            "  Downloading ensemble_boxes-1.0.8-py3-none-any.whl (21 kB)\n",
            "Requirement already satisfied: pandas in /opt/conda/envs/detection/lib/python3.7/site-packages (from ensemble_boxes) (1.3.5)\n",
            "Requirement already satisfied: numpy in /opt/conda/envs/detection/lib/python3.7/site-packages (from ensemble_boxes) (1.21.2)\n",
            "Collecting numba\n",
            "  Downloading numba-0.55.1-1-cp37-cp37m-manylinux2014_x86_64.manylinux_2_17_x86_64.whl (3.3 MB)\n",
            "\u001b[K     |████████████████████████████████| 3.3 MB 21.5 MB/s eta 0:00:01\n",
            "\u001b[?25hRequirement already satisfied: setuptools in /opt/conda/envs/detection/lib/python3.7/site-packages (from numba->ensemble_boxes) (58.0.4)\n",
            "Collecting llvmlite<0.39,>=0.38.0rc1\n",
            "  Downloading llvmlite-0.38.0-cp37-cp37m-manylinux_2_17_x86_64.manylinux2014_x86_64.whl (34.5 MB)\n",
            "\u001b[K     |████████████████████████████████| 34.5 MB 71.8 MB/s eta 0:00:01\n",
            "\u001b[?25hRequirement already satisfied: pytz>=2017.3 in /opt/conda/envs/detection/lib/python3.7/site-packages (from pandas->ensemble_boxes) (2021.3)\n",
            "Requirement already satisfied: python-dateutil>=2.7.3 in /opt/conda/envs/detection/lib/python3.7/site-packages (from pandas->ensemble_boxes) (2.8.2)\n",
            "Requirement already satisfied: six>=1.5 in /opt/conda/envs/detection/lib/python3.7/site-packages (from python-dateutil>=2.7.3->pandas->ensemble_boxes) (1.16.0)\n",
            "Installing collected packages: llvmlite, numba, ensemble-boxes\n",
            "Successfully installed ensemble-boxes-1.0.8 llvmlite-0.38.0 numba-0.55.1\n",
            "\u001b[33mWARNING: Running pip as the 'root' user can result in broken permissions and conflicting behaviour with the system package manager. It is recommended to use a virtual environment instead: https://pip.pypa.io/warnings/venv\u001b[0m\n"
          ]
        }
      ],
      "source": [
        "# !pip3 install ensemble_boxes"
      ]
    },
    {
      "cell_type": "code",
      "execution_count": 1,
      "metadata": {
        "id": "hiv4fIc70SC3"
      },
      "outputs": [],
      "source": [
        "import pandas as pd\n",
        "from ensemble_boxes import *\n",
        "import numpy as np\n",
        "from pycocotools.coco import COCO"
      ]
    },
    {
      "cell_type": "markdown",
      "metadata": {},
      "source": [
        "submission_files에 ensemble할 submission.csv 파일을 문자열로 넣어주세요"
      ]
    },
    {
      "cell_type": "code",
      "execution_count": 3,
      "metadata": {
        "id": "zVKthu-n0SC3"
      },
      "outputs": [],
      "source": [
        "submission_files = []\n",
        "\n",
        "submission_df = [pd.read_csv(file) for file in submission_files]"
      ]
    },
    {
      "cell_type": "code",
      "execution_count": 4,
      "metadata": {},
      "outputs": [
        {
          "data": {
            "text/plain": [
              "['yolor/yolor_1_5818.csv',\n",
              " 'yolor/yolor_2_5828.csv',\n",
              " 'yolor/yolor_3_5705.csv',\n",
              " 'yolor/yolor_4_5931.csv',\n",
              " 'yolor/yolor_5_5787.csv']"
            ]
          },
          "execution_count": 4,
          "metadata": {},
          "output_type": "execute_result"
        }
      ],
      "source": [
        "submission_files"
      ]
    },
    {
      "cell_type": "code",
      "execution_count": 5,
      "metadata": {
        "id": "9SWR4Ycl0SC3"
      },
      "outputs": [],
      "source": [
        "image_ids = submission_df[0]['image_id'].tolist()"
      ]
    },
    {
      "cell_type": "code",
      "execution_count": 6,
      "metadata": {
        "id": "Q_m-H0ar0SC4",
        "outputId": "5d8cf39d-ffe3-4058-ed7c-89021d2f8482"
      },
      "outputs": [
        {
          "name": "stdout",
          "output_type": "stream",
          "text": [
            "loading annotations into memory...\n",
            "Done (t=0.01s)\n",
            "creating index...\n",
            "index created!\n"
          ]
        }
      ],
      "source": [
        "annotation = '../dataset/test.json'\n",
        "coco = COCO(annotation)"
      ]
    },
    {
      "cell_type": "markdown",
      "metadata": {},
      "source": [
        "submission_files에 넣어준 csv 순서대로 적용할 가중치값을 넣어주세요 default = 1\n",
        "<br/>\n",
        "ex) [1, 1.1, 1.1, 1, 1.3]"
      ]
    },
    {
      "cell_type": "code",
      "execution_count": 7,
      "metadata": {},
      "outputs": [],
      "source": [
        "weights = []"
      ]
    },
    {
      "cell_type": "code",
      "execution_count": 8,
      "metadata": {
        "id": "SGuCEqXV0SC4"
      },
      "outputs": [
        {
          "name": "stderr",
          "output_type": "stream",
          "text": [
            "/opt/conda/envs/detection/lib/python3.7/site-packages/ensemble_boxes/ensemble_boxes_wbf.py:64: UserWarning: X1 < 0 in box. Set it to 0.\n",
            "  warnings.warn('X1 < 0 in box. Set it to 0.')\n",
            "/opt/conda/envs/detection/lib/python3.7/site-packages/ensemble_boxes/ensemble_boxes_wbf.py:76: UserWarning: Y1 < 0 in box. Set it to 0.\n",
            "  warnings.warn('Y1 < 0 in box. Set it to 0.')\n",
            "/opt/conda/envs/detection/lib/python3.7/site-packages/ensemble_boxes/ensemble_boxes_wbf.py:73: UserWarning: X2 > 1 in box. Set it to 1. Check that you normalize boxes in [0, 1] range.\n",
            "  warnings.warn('X2 > 1 in box. Set it to 1. Check that you normalize boxes in [0, 1] range.')\n",
            "/opt/conda/envs/detection/lib/python3.7/site-packages/ensemble_boxes/ensemble_boxes_wbf.py:85: UserWarning: Y2 > 1 in box. Set it to 1. Check that you normalize boxes in [0, 1] range.\n",
            "  warnings.warn('Y2 > 1 in box. Set it to 1. Check that you normalize boxes in [0, 1] range.')\n"
          ]
        }
      ],
      "source": [
        "prediction_strings = []\n",
        "file_names = []\n",
        "\n",
        "for i, image_id in enumerate(image_ids):\n",
        "    prediction_string = ''\n",
        "    boxes_list = []\n",
        "    scores_list = []\n",
        "    labels_list = []\n",
        "    image_info = coco.loadImgs(i)[0]\n",
        "    \n",
        "    for df in submission_df:\n",
        "        predict_string = df[df['image_id'] == image_id]['PredictionString'].tolist()[0]\n",
        "        predict_list = str(predict_string).split()\n",
        "        \n",
        "        if len(predict_list)==0 or len(predict_list)==1:\n",
        "            continue\n",
        "            \n",
        "        predict_list = np.reshape(predict_list, (-1, 6))\n",
        "        box_list = []\n",
        "        \n",
        "        for box in predict_list[:, 2:6].tolist():\n",
        "            box[0] = float(box[0]) / image_info['width']\n",
        "            box[1] = float(box[1]) / image_info['height']\n",
        "            box[2] = float(box[2]) / image_info['width']\n",
        "            box[3] = float(box[3]) / image_info['height']\n",
        "            box_list.append(box)\n",
        "            \n",
        "        boxes_list.append(box_list)\n",
        "        scores_list.append(list(map(float, predict_list[:, 1].tolist())))\n",
        "        labels_list.append(list(map(int, predict_list[:, 0].tolist())))\n",
        "    \n",
        "    if len(boxes_list):\n",
        "        # boxes, scores, labels = nms(boxes_list, scores_list, labels_list,iou_thr=iou_thr)\n",
        "        # boxes, scores, labels = soft_nms(box_list, scores_list, labels_list, iou_thr=iou_thr)\n",
        "        # boxes, scores, labels = non_maximum_weighted(boxes_list, scores_list, labels_list,iou_thr=iou_thr)\n",
        "        # boxes, scores, labels = weighted_boxes_fusion(boxes_list, scores_list, labels_list,iou_thr=0.5,conf_type='box_and_model_avg')\n",
        "        boxes, scores, labels = weighted_boxes_fusion(boxes_list, scores_list, labels_list, weights=weights, iou_thr=0.55)\n",
        "\n",
        "        for box, score, label in zip(boxes, scores, labels):\n",
        "            prediction_string += str(int(label)) + ' ' + str(score) + ' ' + str(box[0] * image_info['width']) + ' ' + str(box[1] * image_info['height']) + ' ' + str(box[2] * image_info['width']) + ' ' + str(box[3] * image_info['height']) + ' '\n",
        "    \n",
        "    prediction_strings.append(prediction_string)\n",
        "    file_names.append(image_id)"
      ]
    },
    {
      "cell_type": "code",
      "execution_count": 9,
      "metadata": {
        "id": "cGKjTSAg0SC5",
        "outputId": "bb0d2607-8854-4eb1-ad21-d517403ed0e6"
      },
      "outputs": [
        {
          "data": {
            "text/html": [
              "<div>\n",
              "<style scoped>\n",
              "    .dataframe tbody tr th:only-of-type {\n",
              "        vertical-align: middle;\n",
              "    }\n",
              "\n",
              "    .dataframe tbody tr th {\n",
              "        vertical-align: top;\n",
              "    }\n",
              "\n",
              "    .dataframe thead th {\n",
              "        text-align: right;\n",
              "    }\n",
              "</style>\n",
              "<table border=\"1\" class=\"dataframe\">\n",
              "  <thead>\n",
              "    <tr style=\"text-align: right;\">\n",
              "      <th></th>\n",
              "      <th>PredictionString</th>\n",
              "      <th>image_id</th>\n",
              "    </tr>\n",
              "  </thead>\n",
              "  <tbody>\n",
              "    <tr>\n",
              "      <th>0</th>\n",
              "      <td>7 0.975541989851054 603.19384765625 517.297912...</td>\n",
              "      <td>test/0000.jpg</td>\n",
              "    </tr>\n",
              "    <tr>\n",
              "      <th>1</th>\n",
              "      <td>5 0.960384460819156 342.96453857421875 251.713...</td>\n",
              "      <td>test/0001.jpg</td>\n",
              "    </tr>\n",
              "    <tr>\n",
              "      <th>2</th>\n",
              "      <td>1 0.8758141987923785 425.4403076171875 268.837...</td>\n",
              "      <td>test/0002.jpg</td>\n",
              "    </tr>\n",
              "    <tr>\n",
              "      <th>3</th>\n",
              "      <td>9 0.5229881079373848 140.39801025390625 244.00...</td>\n",
              "      <td>test/0003.jpg</td>\n",
              "    </tr>\n",
              "    <tr>\n",
              "      <th>4</th>\n",
              "      <td>0 0.30154380603636016 197.60690307617188 256.6...</td>\n",
              "      <td>test/0004.jpg</td>\n",
              "    </tr>\n",
              "  </tbody>\n",
              "</table>\n",
              "</div>"
            ],
            "text/plain": [
              "                                    PredictionString       image_id\n",
              "0  7 0.975541989851054 603.19384765625 517.297912...  test/0000.jpg\n",
              "1  5 0.960384460819156 342.96453857421875 251.713...  test/0001.jpg\n",
              "2  1 0.8758141987923785 425.4403076171875 268.837...  test/0002.jpg\n",
              "3  9 0.5229881079373848 140.39801025390625 244.00...  test/0003.jpg\n",
              "4  0 0.30154380603636016 197.60690307617188 256.6...  test/0004.jpg"
            ]
          },
          "execution_count": 9,
          "metadata": {},
          "output_type": "execute_result"
        }
      ],
      "source": [
        "submission = pd.DataFrame()\n",
        "submission['PredictionString'] = prediction_strings\n",
        "submission['image_id'] = file_names\n",
        "submission.to_csv('submission_ensemble.csv')\n",
        "\n",
        "submission.head()"
      ]
    },
    {
      "cell_type": "code",
      "execution_count": null,
      "metadata": {},
      "outputs": [],
      "source": []
    }
  ],
  "metadata": {
    "colab": {
      "name": "ensemble.ipynb",
      "provenance": []
    },
    "interpreter": {
      "hash": "d4d1e4263499bec80672ea0156c357c1ee493ec2b1c70f0acce89fc37c4a6abe"
    },
    "kernelspec": {
      "display_name": "Python 3.8.5 64-bit ('base': conda)",
      "name": "python3"
    },
    "language_info": {
      "codemirror_mode": {
        "name": "ipython",
        "version": 3
      },
      "file_extension": ".py",
      "mimetype": "text/x-python",
      "name": "python",
      "nbconvert_exporter": "python",
      "pygments_lexer": "ipython3",
      "version": "3.7.11"
    }
  },
  "nbformat": 4,
  "nbformat_minor": 2
}
