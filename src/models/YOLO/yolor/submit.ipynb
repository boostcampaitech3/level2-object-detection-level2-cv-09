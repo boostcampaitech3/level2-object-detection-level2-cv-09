{
 "cells": [
  {
   "cell_type": "code",
   "execution_count": 1,
   "metadata": {},
   "outputs": [
    {
     "name": "stdout",
     "output_type": "stream",
     "text": [
      "./runs/test/yolor_fold5/labels/0000.txt\n",
      "                                    PredictionString       image_id\n",
      "0  7 0.97998 448.3998720000001 600.0 646.000128 8...  test/0000.jpg\n",
      "1  5 0.943848 341.99961599999995 251.399680000000...  test/0001.jpg\n",
      "2  1 0.958984 72.600064 273.999872 427.2000000000...  test/0002.jpg\n",
      "3  9 0.91748 150.19929600000006 260.8005119999999...  test/0003.jpg\n",
      "4  0 0.602051 193.599488 256.00000000000006 871.9...  test/0004.jpg\n"
     ]
    }
   ],
   "source": [
    "from glob import glob\n",
    "import pandas as pd\n",
    "\n",
    "images = sorted(glob(\"./runs/test/yolor_fold5/labels/*.txt\"))\n",
    "print(images[0])\n",
    "\n",
    "image_id = []\n",
    "PredictionString = []\n",
    "\n",
    "df = pd.DataFrame()\n",
    "for i in range(0, len(images)):\n",
    "    sub_prediction = []\n",
    "    image_id.append(\"test/\"+images[i].split(\"/\")[-1].replace(\"txt\", \"jpg\"))\n",
    "    with open(images[i]) as f:\n",
    "        lines = f.readlines()\n",
    "        for line in lines:\n",
    "            l = line.split(\"\\n\")[0].split(\" \")\n",
    "            class_id = l[0]\n",
    "            x, y, w, h = l[1],l[2],l[3],l[4]\n",
    "            conf = l[5]\n",
    "            sub_prediction.append(class_id)\n",
    "            sub_prediction.append(conf)\n",
    "            sub_prediction.append(str(float(x) * 1024 - float(w) * 512))\n",
    "            sub_prediction.append(str(float(y) * 1024 - float(h) * 512))\n",
    "            sub_prediction.append(str(float(x) * 1024 + float(w) * 512))\n",
    "            sub_prediction.append(str(float(y) * 1024 + float(h) * 512))\n",
    "    PredictionString.append(\" \".join(sub_prediction))\n",
    "\n",
    "df[\"PredictionString\"] = PredictionString\n",
    "df[\"image_id\"] = image_id\n",
    "print(df.head())\n",
    "df.to_csv(\"submission_fold5.csv\", index=None)"
   ]
  },
  {
   "cell_type": "code",
   "execution_count": null,
   "metadata": {},
   "outputs": [],
   "source": []
  }
 ],
 "metadata": {
  "kernelspec": {
   "display_name": "detection",
   "language": "python",
   "name": "detection"
  },
  "orig_nbformat": 4
 },
 "nbformat": 4,
 "nbformat_minor": 2
}
